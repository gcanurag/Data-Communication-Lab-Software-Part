{
 "cells": [
  {
   "cell_type": "code",
   "execution_count": 1,
   "id": "95314b48-d7d3-452a-a29a-ff376e0fec8b",
   "metadata": {},
   "outputs": [
    {
     "name": "stdout",
     "output_type": "stream",
     "text": [
      "r1 = f + g: [-2.+0.j  9.+7.j  4.+0.j  6.-2.j]\n",
      "r2 = f . g: (13+24j)\n",
      "r3 (mean of f): (1.75-0.5j)\n",
      "r4 (average energy of f): 10.25\n"
     ]
    }
   ],
   "source": [
    "import numpy as np\n",
    "\n",
    "# Define the vectors f and g\n",
    "f = np.array([1, 4, -2, 4 - 2j])\n",
    "g = np.array([-3, 5 + 7j, 6, 2])\n",
    "\n",
    "# a) Addition\n",
    "r1 = f + g\n",
    "print(\"r1 = f + g:\", r1)\n",
    "\n",
    "# b) Dot product\n",
    "r2 = np.dot(f, g)\n",
    "print(\"r2 = f . g:\", r2)\n",
    "\n",
    "# c) Mean\n",
    "r3 = np.mean(f)\n",
    "print(\"r3 (mean of f):\", r3)\n",
    "\n",
    "# d) Average energy\n",
    "r4 = np.mean(np.abs(f)**2)\n",
    "print(\"r4 (average energy of f):\", r4)\n"
   ]
  },
  {
   "cell_type": "code",
   "execution_count": null,
   "id": "22f3876f-2615-4ed8-a5de-595606fbcd22",
   "metadata": {},
   "outputs": [],
   "source": []
  }
 ],
 "metadata": {
  "kernelspec": {
   "display_name": "Python 3 (ipykernel)",
   "language": "python",
   "name": "python3"
  },
  "language_info": {
   "codemirror_mode": {
    "name": "ipython",
    "version": 3
   },
   "file_extension": ".py",
   "mimetype": "text/x-python",
   "name": "python",
   "nbconvert_exporter": "python",
   "pygments_lexer": "ipython3",
   "version": "3.12.1"
  }
 },
 "nbformat": 4,
 "nbformat_minor": 5
}
